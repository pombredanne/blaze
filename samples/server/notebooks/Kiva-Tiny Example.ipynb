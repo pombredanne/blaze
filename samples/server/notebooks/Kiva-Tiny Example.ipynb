{
 "metadata": {
  "name": ""
 },
 "nbformat": 3,
 "nbformat_minor": 0,
 "worksheets": [
  {
   "cells": [
    {
     "cell_type": "heading",
     "level": 2,
     "metadata": {},
     "source": [
      "Starting a Blaze Server"
     ]
    },
    {
     "cell_type": "markdown",
     "metadata": {},
     "source": [
      "Before running this notebook, start the example Blaze server\n",
      "in the [blaze_web]/example directory.\n",
      "\n",
      "```\n",
      "    ~/blaze_web/example $ python start_server.py\n",
      "    Starting Blaze Server\n",
      "```"
     ]
    },
    {
     "cell_type": "heading",
     "level": 2,
     "metadata": {},
     "source": [
      "Viewing an array from the browser"
     ]
    },
    {
     "cell_type": "markdown",
     "metadata": {},
     "source": [
      "If the server started properly, it is now serving data from localhost:8080. The data it is serving corresponds with the array data in the example/arrays subdirectory, which you can browse to see the included example data. To see the tiny subset of a Kiva data snapshot, navigate to\n",
      "\n",
      "http://localhost:8080/kiva_tiny/loans\n",
      "\n",
      "What you should see is an annotated version of the Blaze datashape for the raw dataset. At the beginning, you should see\n",
      "\n",
      "```ruby\n",
      "    type BlazeDataShape = 5, {\n",
      "```\n",
      "\n",
      "which tells you that the data is an array of 5 elements, and each element is a record. In this case, each element corresponds to one .json file, like example/arrays/kiva_tiny/loans/3.json."
     ]
    },
    {
     "cell_type": "markdown",
     "metadata": {},
     "source": [
      "At the top level of this record, there are two entries, 'header' and 'loans'. Click on 'header' to navigate to hone in on this field. Note that the URL is now\n",
      "\n",
      "http://localhost:8080/kiva_tiny/loans.header\n",
      "\n",
      "and accessing fields is like accessing attributes in Python. You can see a JSON version of the data for the array by clicking on the link near the top. This takes you to\n",
      "\n",
      "http://localhost:8080/kiva_tiny/loans.header?r=data.json\n",
      "\n",
      "Similarly, you can get the Blaze datashape in its raw form by clicking on the 'BlazeDataShape' link.\n",
      "\n",
      "http://localhost:8080/kiva_tiny/loans.header?r=datashape"
     ]
    },
    {
     "cell_type": "markdown",
     "metadata": {},
     "source": [
      "Click back to the kiva_tiny/loans array, and click on the 'loans' link to get to\n",
      "\n",
      "http://localhost:8080/kiva_tiny/loans.loans\n",
      "\n",
      "Each entry of the outermost array is an array of loans, whose size may be different from file to file. This is represented by the 'VarDim' in the datashape. We can index into the first dimension to see the array for a single file, with\n",
      "\n",
      "http://localhost:8080/kiva_tiny/loans.loans[-1%5D\n",
      "\n",
      "This access the last item, and the datashape you get starts like\n",
      "\n",
      "```ruby\n",
      "    type BlazeDataShape = 3, {\n",
      "```\n",
      "\n",
      "indicating that it's an array of size 3. While not yet implemented, the intent is to be able to do a deferred concatenate along this VarDim dimension, to produce a flattened array view of all the loans spread across multiple files or servers."
     ]
    },
    {
     "cell_type": "markdown",
     "metadata": {},
     "source": [
      "Python slicing syntax is supported here, for example\n",
      "\n",
      "http://localhost:8080/kiva_tiny/loans.loans[1:3%5D\n",
      "\n",
      "From here, you can immediately view the data at a deeper level of the record hierarchy. If you scroll near the bottom to the 'payments' field, and click on the 'JSON' link beside the field 'amount', it will take you to the link\n",
      "\n",
      "http://localhost:8080/kiva_tiny/loans.loans[1:3].payments.amount?r=data.json"
     ]
    },
    {
     "cell_type": "heading",
     "level": 2,
     "metadata": {},
     "source": [
      "Viewing an array from Python"
     ]
    },
    {
     "cell_type": "markdown",
     "metadata": {},
     "source": [
      "In addition to directly accessing the data from a web browser, there is a remote array Python object that can be used to get at the same data. This support is a work in progress, and will move into its proper home, blaze-core, relatively soon."
     ]
    },
    {
     "cell_type": "code",
     "collapsed": false,
     "input": [
      "from blaze.client.rarray import rarray\n",
      "from IPython.core.display import HTML"
     ],
     "language": "python",
     "metadata": {},
     "outputs": [],
     "prompt_number": 1
    },
    {
     "cell_type": "code",
     "collapsed": false,
     "input": [
      "r = rarray('http://localhost:8080/kiva_tiny/loans.loans')"
     ],
     "language": "python",
     "metadata": {},
     "outputs": [],
     "prompt_number": 2
    },
    {
     "cell_type": "markdown",
     "metadata": {},
     "source": [
      "Let's look at just the payments for the same array subset we just viewed in the web browser."
     ]
    },
    {
     "cell_type": "code",
     "collapsed": false,
     "input": [
      "rpart = r[1:3].payments"
     ],
     "language": "python",
     "metadata": {},
     "outputs": [],
     "prompt_number": 3
    },
    {
     "cell_type": "markdown",
     "metadata": {},
     "source": [
      "The repr of an rarray gives a little bit of information about where the data is from, and what its datashape is."
     ]
    },
    {
     "cell_type": "code",
     "collapsed": false,
     "input": [
      "rpart"
     ],
     "language": "python",
     "metadata": {},
     "outputs": [
      {
       "metadata": {},
       "output_type": "pyout",
       "prompt_number": 4,
       "text": [
        "Remote Blaze Array\n",
        "url: http://localhost:8080/kiva_tiny/loans.loans[1:3].payments\n",
        "dshape: 2, var, var, { amount : float64; local_amount : float64; processed_date : json; settlement_date : json; rounded_local_amount : float64; currency_exchange_loss_amount : float64; payment_id : int64; comment : json }\n"
       ]
      }
     ],
     "prompt_number": 4
    },
    {
     "cell_type": "markdown",
     "metadata": {},
     "source": [
      "The data can be retrieved locally using the 'get_data' function. Currently, this returns the data as a dynd ndobject. DyND is a work-in-progress supporting library for Blaze, which is being used directly in the current demonstration client/server components."
     ]
    },
    {
     "cell_type": "code",
     "collapsed": false,
     "input": [
      "from dynd import nd, ndt\n",
      "rpart.amount.get_dynd()"
     ],
     "language": "python",
     "metadata": {},
     "outputs": [
      {
       "metadata": {},
       "output_type": "pyout",
       "prompt_number": 5,
       "text": [
        "nd.array([[[54, 54, 54, 54, 54, 54, 54, 54, 54, 54, 260], [80, 80, 80, 80, 80, 80, 80, 80, 80, 80, 80, 320], [30, 30, 30, 30, 30, 30, 30, 30, 30, 30], [125], [83, 83, 83, 83, 83, 83, 83, 83, 336]], [[67, 67, 67, 67, 67, 67, 67, 67, 67, 67, 67, 67, 68, 67, 61], [50, 50, 50, 50, 50, 50, 50, 150], [45, 75, 60, 45], [214.05, 224.59, 230.87, 242.85, 512.64], [70.85, 54.18, 62.51, 20.84, 56.26, 235.36]]], fixed_dim<2, var_dim<var_dim<float64>>>)"
       ]
      }
     ],
     "prompt_number": 5
    },
    {
     "cell_type": "code",
     "collapsed": false,
     "input": [
      "x = rpart.get_dynd()"
     ],
     "language": "python",
     "metadata": {},
     "outputs": [],
     "prompt_number": 6
    },
    {
     "cell_type": "code",
     "collapsed": false,
     "input": [
      "print nd.dshape_of(x)"
     ],
     "language": "python",
     "metadata": {},
     "outputs": [
      {
       "output_type": "stream",
       "stream": "stdout",
       "text": [
        "2, var, var, {\n",
        "  amount: float64;\n",
        "  local_amount: float64;\n",
        "  processed_date: json;\n",
        "  settlement_date: json;\n",
        "  rounded_local_amount: float64;\n",
        "  currency_exchange_loss_amount: float64;\n",
        "  payment_id: int64;\n",
        "  comment: json;\n",
        "}\n"
       ]
      }
     ],
     "prompt_number": 7
    },
    {
     "cell_type": "markdown",
     "metadata": {},
     "source": [
      "Records get converted to Python dicts if you convert the nd.array into Python."
     ]
    },
    {
     "cell_type": "code",
     "collapsed": false,
     "input": [
      "nd.as_py(x[0,0,0])"
     ],
     "language": "python",
     "metadata": {},
     "outputs": [
      {
       "metadata": {},
       "output_type": "pyout",
       "prompt_number": 8,
       "text": [
        "{u'amount': 54.0,\n",
        " u'comment': u'null',\n",
        " u'currency_exchange_loss_amount': 0.0,\n",
        " u'local_amount': 54.0,\n",
        " u'payment_id': 172273020L,\n",
        " u'processed_date': u'\"2010-09-30T07:00:00Z\"',\n",
        " u'rounded_local_amount': 54.0,\n",
        " u'settlement_date': u'\"2010-10-16T08:56:15Z\"'}"
       ]
      }
     ],
     "prompt_number": 8
    },
    {
     "cell_type": "markdown",
     "metadata": {},
     "source": [
      "When the data is in a format supported by NumPy, you can also convert it into a NumPy array."
     ]
    },
    {
     "cell_type": "code",
     "collapsed": false,
     "input": [
      "nd.as_numpy(x.payment_id[0,0])"
     ],
     "language": "python",
     "metadata": {},
     "outputs": [
      {
       "metadata": {},
       "output_type": "pyout",
       "prompt_number": 9,
       "text": [
        "array([172273020, 177430378, 182853418, 189160243, 191576046, 195863810,\n",
        "       201561723, 206173650, 211247208, 216995001, 222109437], dtype=int64)"
       ]
      }
     ],
     "prompt_number": 9
    },
    {
     "cell_type": "heading",
     "level": 2,
     "metadata": {},
     "source": [
      "Compute Sessions and Computed Fields"
     ]
    },
    {
     "cell_type": "markdown",
     "metadata": {},
     "source": [
      "Now let's take a brief look at a way to do remote computations on a Blaze server, by creating computed fields. Let's say we want to have a field which sums all the payment amounts, so at a glance we can see the total payments. Each loan has a variable-sized array of payments associated at it, for the first payment it looks like this:"
     ]
    },
    {
     "cell_type": "code",
     "collapsed": false,
     "input": [
      "p = r[0,0].payments\n",
      "p"
     ],
     "language": "python",
     "metadata": {},
     "outputs": [
      {
       "metadata": {},
       "output_type": "pyout",
       "prompt_number": 10,
       "text": [
        "Remote Blaze Array\n",
        "url: http://localhost:8080/kiva_tiny/loans.loans[0,0].payments\n",
        "dshape: 9, { amount : float64; local_amount : float64; processed_date : json; settlement_date : json; rounded_local_amount : float64; currency_exchange_loss_amount : float64; payment_id : int64; comment : json }\n"
       ]
      }
     ],
     "prompt_number": 10
    },
    {
     "cell_type": "code",
     "collapsed": false,
     "input": [
      "p.amount.get_data()"
     ],
     "language": "python",
     "metadata": {},
     "outputs": [
      {
       "metadata": {},
       "output_type": "pyout",
       "prompt_number": 11,
       "text": [
        "array([ 128.12,  129.93,  137.2 ,  144.4 ,  149.2 ,  155.58,  161.48,\n",
        "        169.08,  175.01],\n",
        "      dshape='9, float64')"
       ]
      }
     ],
     "prompt_number": 11
    },
    {
     "cell_type": "markdown",
     "metadata": {},
     "source": [
      "We'd like a field which gives us"
     ]
    },
    {
     "cell_type": "code",
     "collapsed": false,
     "input": [
      "import numpy as np\n",
      "np.sum(p.amount.get_data())"
     ],
     "language": "python",
     "metadata": {},
     "outputs": [
      {
       "metadata": {},
       "output_type": "pyout",
       "prompt_number": 12,
       "text": [
        "1350.0"
       ]
      }
     ],
     "prompt_number": 12
    },
    {
     "cell_type": "markdown",
     "metadata": {},
     "source": [
      "To create this computed field, first we need to start a compute session on the server, as follows."
     ]
    },
    {
     "cell_type": "code",
     "collapsed": false,
     "input": [
      "from blaze.client.session import session\n",
      "s = session(r.url)"
     ],
     "language": "python",
     "metadata": {},
     "outputs": [
      {
       "output_type": "stream",
       "stream": "stdout",
       "text": [
        "Remote Blaze session created at http://localhost:8080/kiva_tiny/loans.loans\n",
        "Remote DyND-Python version: 0.5.0\n",
        "Remote DyND version: 0.5.0\n"
       ]
      }
     ],
     "prompt_number": 13
    },
    {
     "cell_type": "markdown",
     "metadata": {},
     "source": [
      "Now we can use the add_computed_fields function provided on 's' to get an array with the sum."
     ]
    },
    {
     "cell_type": "code",
     "collapsed": false,
     "input": [
      "r2 = s.add_computed_fields(r, [('payment_total_amount', ndt.float64,\n",
      "                               'sum(as_numpy(payments.amount))')])\n",
      "HTML('<a href=\"%s\" target=\"_blank\">%s</a>' % (r2.url, r2.url))"
     ],
     "language": "python",
     "metadata": {},
     "outputs": [
      {
       "html": [
        "<a href=\"http://localhost:8080/.session_mvdiyv/computed_fields_njxvmq\" target=\"_blank\">http://localhost:8080/.session_mvdiyv/computed_fields_njxvmq</a>"
       ],
       "metadata": {},
       "output_type": "pyout",
       "prompt_number": 14,
       "text": [
        "<IPython.core.display.HTML at 0xa4abef0>"
       ]
      }
     ],
     "prompt_number": 14
    },
    {
     "cell_type": "markdown",
     "metadata": {},
     "source": [
      "Click on the link, scroll down to the bottom, and you should see a new field called 'payment_total_amount'. If you click on the 'JSON' link beside it, it should give you the sums. Alternatively, we can get it with Python."
     ]
    },
    {
     "cell_type": "code",
     "collapsed": false,
     "input": [
      "r2.payment_total_amount.get_dynd()"
     ],
     "language": "python",
     "metadata": {},
     "outputs": [
      {
       "metadata": {},
       "output_type": "pyout",
       "prompt_number": 15,
       "text": [
        "nd.array([[1350, 0, 1, 300, 500], [800, 1200, 300, 125, 1000], [1000, 500, 225, 1425, 500], [350, 200, 200, 275, 275], [620.14, 125, 625]], fixed_dim<5, var_dim<float64>>)"
       ]
      }
     ],
     "prompt_number": 15
    },
    {
     "cell_type": "markdown",
     "metadata": {},
     "source": [
      "It may be interesting to compare this total amount paid with the original loan amount and the separate paid_amount field. These values are here:"
     ]
    },
    {
     "cell_type": "code",
     "collapsed": false,
     "input": [
      "r2.terms.loan_amount.get_dynd()"
     ],
     "language": "python",
     "metadata": {},
     "outputs": [
      {
       "metadata": {},
       "output_type": "pyout",
       "prompt_number": 16,
       "text": [
        "nd.array([[1350, 1000, 1000, 300, 500], [800, 1200, 300, 125, 1000], [1000, 500, 225, 1425, 500], [350, 200, 200, 275, 275], [625, 125, 625]], fixed_dim<5, var_dim<float64>>)"
       ]
      }
     ],
     "prompt_number": 16
    },
    {
     "cell_type": "code",
     "collapsed": false,
     "input": [
      "r2.paid_amount.get_dynd()"
     ],
     "language": "python",
     "metadata": {},
     "outputs": [
      {
       "metadata": {},
       "output_type": "pyout",
       "prompt_number": 17,
       "text": [
        "nd.array([[\"1350\", \"null\", \"null\", \"300\", \"500\"], [\"800\", \"1200\", \"300\", \"125\", \"1000\"], [\"1000\", \"500\", \"225\", \"1425\", \"500\"], [\"350\", \"200\", \"200\", \"275\", \"275\"], [\"620.14\", \"125\", \"625\"]], fixed_dim<5, var_dim<json>>)"
       ]
      }
     ],
     "prompt_number": 17
    },
    {
     "cell_type": "markdown",
     "metadata": {},
     "source": [
      "This last field is still preserved in JSON, instead of being treated as a native DyND type, because DyND doesn't yet support option types for the missing 'null' values.\n",
      "\n",
      "To see the percentage paid, let's add another computed field."
     ]
    },
    {
     "cell_type": "code",
     "collapsed": false,
     "input": [
      "r3 = s.add_computed_fields(r2, [('percentage_paid', ndt.float64,\n",
      "                                 '100.0 * payment_total_amount / as_py(terms.loan_amount)')])\n",
      "HTML('<a href=\"%s\" target=\"_blank\">%s</a>' % (r3.url, r3.url))"
     ],
     "language": "python",
     "metadata": {},
     "outputs": [
      {
       "html": [
        "<a href=\"http://localhost:8080/.session_mvdiyv/computed_fields_ltvenu\" target=\"_blank\">http://localhost:8080/.session_mvdiyv/computed_fields_ltvenu</a>"
       ],
       "metadata": {},
       "output_type": "pyout",
       "prompt_number": 18,
       "text": [
        "<IPython.core.display.HTML at 0xa4ba630>"
       ]
      }
     ],
     "prompt_number": 18
    },
    {
     "cell_type": "code",
     "collapsed": false,
     "input": [
      "r3.percentage_paid.get_dynd()"
     ],
     "language": "python",
     "metadata": {},
     "outputs": [
      {
       "metadata": {},
       "output_type": "pyout",
       "prompt_number": 19,
       "text": [
        "nd.array([[100, 0, 0.1, 100, 100], [100, 100, 100, 100, 100], [100, 100, 100, 100, 100], [100, 100, 100, 100, 100], [99.2224, 100, 100]], fixed_dim<5, var_dim<float64>>)"
       ]
      }
     ],
     "prompt_number": 19
    },
    {
     "cell_type": "code",
     "collapsed": false,
     "input": [],
     "language": "python",
     "metadata": {},
     "outputs": [],
     "prompt_number": 19
    }
   ],
   "metadata": {}
  }
 ]
}